{
 "cells": [
  {
   "cell_type": "code",
   "execution_count": 1,
   "id": "d4ff80c4",
   "metadata": {},
   "outputs": [],
   "source": [
    "import numpy as np\n",
    "import pandas as pd\n",
    "%matplotlib inline\n",
    "import matplotlib as mpl\n",
    "import matplotlib.pyplot as plt"
   ]
  },
  {
   "cell_type": "code",
   "execution_count": 2,
   "id": "8cd1a0a9",
   "metadata": {},
   "outputs": [],
   "source": [
    "import tensorflow as tf\n",
    "from tensorflow import keras"
   ]
  },
  {
   "cell_type": "code",
   "execution_count": 3,
   "id": "87502e28",
   "metadata": {},
   "outputs": [],
   "source": [
    "train_dir = r\"D:\\DP Project\\Face Mask Detection\\Face Mask Dataset\\Train\"\n",
    "val_dir = r\"D:\\DP Project\\Face Mask Detection\\Face Mask Dataset\\Validation\"\n",
    "test_dir = r\"D:\\DP Project\\Face Mask Detection\\Face Mask Dataset\\Test\""
   ]
  },
  {
   "cell_type": "code",
   "execution_count": 4,
   "id": "ec9d0f64",
   "metadata": {},
   "outputs": [],
   "source": [
    "from tensorflow.keras.preprocessing.image import ImageDataGenerator"
   ]
  },
  {
   "cell_type": "code",
   "execution_count": 16,
   "id": "437f15bb",
   "metadata": {},
   "outputs": [
    {
     "name": "stdout",
     "output_type": "stream",
     "text": [
      "Found 10000 images belonging to 2 classes.\n",
      "Found 800 images belonging to 2 classes.\n"
     ]
    }
   ],
   "source": [
    "train_datagen = ImageDataGenerator(rescale=1./255,\n",
    "                                  rotation_range=40,\n",
    "                                  width_shift_range=0.2,\n",
    "                                  height_shift_range=0.2,\n",
    "                                  shear_range=0.2,\n",
    "                                  zoom_range=0.2,\n",
    "                                  horizontal_flip=True)\n",
    "test_datagen = ImageDataGenerator(rescale= 1./255)\n",
    "\n",
    "\n",
    "train_gen = train_datagen.flow_from_directory(train_dir,\n",
    "                                             target_size=(128,128),\n",
    "                                             batch_size=100,\n",
    "                                             class_mode='binary')\n",
    "val_gen = test_datagen.flow_from_directory(val_dir,\n",
    "                                             target_size=(128,128),\n",
    "                                             batch_size=16,\n",
    "                                             class_mode='binary')"
   ]
  },
  {
   "cell_type": "code",
   "execution_count": 17,
   "id": "75b27c53",
   "metadata": {},
   "outputs": [],
   "source": [
    "from tensorflow.keras.applications import VGG19\n",
    "\n",
    "conv_base = VGG19(include_top = False, input_shape = (128,128,3))\n",
    "from tensorflow.keras import layers\n",
    "from tensorflow.keras import models"
   ]
  },
  {
   "cell_type": "code",
   "execution_count": 18,
   "id": "85ee737a",
   "metadata": {},
   "outputs": [],
   "source": [
    "model = models.Sequential()\n",
    "model.add(conv_base)\n",
    "model.add(layers.Flatten())\n",
    "model.add(layers.Dense(256, activation='relu'))\n",
    "model.add(layers.Dense(1, activation='sigmoid'))"
   ]
  },
  {
   "cell_type": "code",
   "execution_count": 19,
   "id": "5fc135d7",
   "metadata": {},
   "outputs": [
    {
     "name": "stdout",
     "output_type": "stream",
     "text": [
      "Model: \"sequential_1\"\n",
      "_________________________________________________________________\n",
      " Layer (type)                Output Shape              Param #   \n",
      "=================================================================\n",
      " vgg19 (Functional)          (None, 4, 4, 512)         20024384  \n",
      "                                                                 \n",
      " flatten_1 (Flatten)         (None, 8192)              0         \n",
      "                                                                 \n",
      " dense_2 (Dense)             (None, 256)               2097408   \n",
      "                                                                 \n",
      " dense_3 (Dense)             (None, 1)                 257       \n",
      "                                                                 \n",
      "=================================================================\n",
      "Total params: 22,122,049\n",
      "Trainable params: 22,122,049\n",
      "Non-trainable params: 0\n",
      "_________________________________________________________________\n"
     ]
    }
   ],
   "source": [
    "model.summary()"
   ]
  },
  {
   "cell_type": "code",
   "execution_count": 20,
   "id": "0fdecb25",
   "metadata": {},
   "outputs": [],
   "source": [
    "from tensorflow.keras import optimizers\n",
    "\n",
    "model.compile(loss = 'binary_crossentropy',\n",
    "             optimizer= optimizers.RMSprop(learning_rate=2e-5),\n",
    "             metrics=['acc'])"
   ]
  },
  {
   "cell_type": "code",
   "execution_count": 21,
   "id": "74585269",
   "metadata": {},
   "outputs": [],
   "source": [
    "checkpoint_cb = keras.callbacks.ModelCheckpoint('FaceMD-{epoch:02d}.h5', save_best_only=True)"
   ]
  },
  {
   "cell_type": "code",
   "execution_count": 22,
   "id": "cc9ede67",
   "metadata": {},
   "outputs": [
    {
     "name": "stdout",
     "output_type": "stream",
     "text": [
      "Epoch 1/10\n",
      "100/100 [==============================] - 1301s 13s/step - loss: 0.1335 - acc: 0.9453 - val_loss: 0.0181 - val_acc: 0.9962\n",
      "Epoch 2/10\n",
      "100/100 [==============================] - 1309s 13s/step - loss: 0.0317 - acc: 0.9897 - val_loss: 0.0033 - val_acc: 0.9987\n",
      "Epoch 3/10\n",
      "100/100 [==============================] - 1265s 13s/step - loss: 0.0277 - acc: 0.9907 - val_loss: 0.0023 - val_acc: 0.9987\n",
      "Epoch 4/10\n",
      "100/100 [==============================] - 1257s 13s/step - loss: 0.0147 - acc: 0.9945 - val_loss: 0.0082 - val_acc: 0.9975\n",
      "Epoch 5/10\n",
      "100/100 [==============================] - 1254s 13s/step - loss: 0.0147 - acc: 0.9955 - val_loss: 0.0065 - val_acc: 0.9987\n",
      "Epoch 6/10\n",
      "100/100 [==============================] - 1250s 13s/step - loss: 0.0119 - acc: 0.9967 - val_loss: 0.0020 - val_acc: 0.9987\n",
      "Epoch 7/10\n",
      "100/100 [==============================] - 1252s 13s/step - loss: 0.0091 - acc: 0.9974 - val_loss: 6.8894e-04 - val_acc: 1.0000\n",
      "Epoch 8/10\n",
      "100/100 [==============================] - 4977s 50s/step - loss: 0.0071 - acc: 0.9981 - val_loss: 0.0028 - val_acc: 0.9987\n",
      "Epoch 9/10\n",
      "100/100 [==============================] - 1285s 13s/step - loss: 0.0071 - acc: 0.9978 - val_loss: 0.0149 - val_acc: 0.9975\n",
      "Epoch 10/10\n",
      "100/100 [==============================] - 1285s 13s/step - loss: 0.0048 - acc: 0.9984 - val_loss: 0.0070 - val_acc: 0.9975\n"
     ]
    }
   ],
   "source": [
    "history = model.fit(train_gen,\n",
    "                   steps_per_epoch=100,\n",
    "                   epochs=10,\n",
    "                   validation_data=val_gen,\n",
    "                   validation_steps=50,\n",
    "                   callbacks=[checkpoint_cb])"
   ]
  },
  {
   "cell_type": "code",
   "execution_count": 23,
   "id": "62f73b23",
   "metadata": {},
   "outputs": [
    {
     "name": "stdout",
     "output_type": "stream",
     "text": [
      "Found 992 images belonging to 2 classes.\n"
     ]
    }
   ],
   "source": [
    "test_gen = test_datagen.flow_from_directory(test_dir,\n",
    "                                             target_size=(128,128),\n",
    "                                             batch_size=100,\n",
    "                                             class_mode='binary')"
   ]
  },
  {
   "cell_type": "code",
   "execution_count": 27,
   "id": "e9664699",
   "metadata": {},
   "outputs": [
    {
     "name": "stdout",
     "output_type": "stream",
     "text": [
      "10/10 [==============================] - 24s 2s/step - loss: 0.0017 - acc: 0.9990\n"
     ]
    },
    {
     "data": {
      "text/plain": [
       "[0.0016618533991277218, 0.9989919066429138]"
      ]
     },
     "execution_count": 27,
     "metadata": {},
     "output_type": "execute_result"
    }
   ],
   "source": [
    "model.evaluate(test_gen, steps = 10)"
   ]
  },
  {
   "cell_type": "code",
   "execution_count": null,
   "id": "44539821",
   "metadata": {},
   "outputs": [],
   "source": []
  }
 ],
 "metadata": {
  "kernelspec": {
   "display_name": "Python 3 (ipykernel)",
   "language": "python",
   "name": "python3"
  },
  "language_info": {
   "codemirror_mode": {
    "name": "ipython",
    "version": 3
   },
   "file_extension": ".py",
   "mimetype": "text/x-python",
   "name": "python",
   "nbconvert_exporter": "python",
   "pygments_lexer": "ipython3",
   "version": "3.9.12"
  }
 },
 "nbformat": 4,
 "nbformat_minor": 5
}
